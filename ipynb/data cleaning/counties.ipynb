{
 "nbformat": 4,
 "nbformat_minor": 2,
 "metadata": {
  "language_info": {
   "name": "python",
   "codemirror_mode": {
    "name": "ipython",
    "version": 3
   },
   "version": "3.6.5-final"
  },
  "orig_nbformat": 2,
  "file_extension": ".py",
  "mimetype": "text/x-python",
  "name": "python",
  "npconvert_exporter": "python",
  "pygments_lexer": "ipython3",
  "version": 3,
  "kernelspec": {
   "name": "python36564bit51264a06daec42be872742319b0f44dc",
   "display_name": "Python 3.6.5 64-bit"
  }
 },
 "cells": [
  {
   "cell_type": "code",
   "execution_count": 1,
   "metadata": {},
   "outputs": [],
   "source": [
    "import numpy as np\n",
    "import pandas as pd\n",
    "from IPython.core.interactiveshell import InteractiveShell\n",
    "InteractiveShell.ast_node_interactivity = \"all\""
   ]
  },
  {
   "cell_type": "code",
   "execution_count": 2,
   "metadata": {},
   "outputs": [],
   "source": [
    "df = pd.read_csv('../../data/raw/counties.csv')"
   ]
  },
  {
   "cell_type": "code",
   "execution_count": 3,
   "metadata": {},
   "outputs": [
    {
     "data": {
      "text/html": "<div>\n<style scoped>\n    .dataframe tbody tr th:only-of-type {\n        vertical-align: middle;\n    }\n\n    .dataframe tbody tr th {\n        vertical-align: top;\n    }\n\n    .dataframe thead th {\n        text-align: right;\n    }\n</style>\n<table border=\"1\" class=\"dataframe\">\n  <thead>\n    <tr style=\"text-align: right;\">\n      <th></th>\n      <th>Sort [1]</th>\n      <th>State</th>\n      <th>FIPS</th>\n      <th>County [2]</th>\n      <th>County Seat(s) [3]</th>\n      <th>Population(2010)</th>\n      <th>Land Areakm²</th>\n      <th>Land Areami²</th>\n      <th>Water Areakm²</th>\n      <th>Water Areami²</th>\n      <th>Total Areakm²</th>\n      <th>Total Areami²</th>\n      <th>Latitude</th>\n      <th>Longitude</th>\n    </tr>\n  </thead>\n  <tbody>\n    <tr>\n      <th>0</th>\n      <td>1</td>\n      <td>AL</td>\n      <td>1001</td>\n      <td>Autauga</td>\n      <td>Prattville</td>\n      <td>54,571</td>\n      <td>1,539.582</td>\n      <td>594.436</td>\n      <td>25.776</td>\n      <td>9.952</td>\n      <td>1,565.358</td>\n      <td>604.388</td>\n      <td>+32.536382°</td>\n      <td>–86.644490°</td>\n    </tr>\n    <tr>\n      <th>1</th>\n      <td>2</td>\n      <td>AL</td>\n      <td>1003</td>\n      <td>Baldwin</td>\n      <td>Bay Minette</td>\n      <td>182,265</td>\n      <td>4,117.522</td>\n      <td>1,589.784</td>\n      <td>1,133.190</td>\n      <td>437.527</td>\n      <td>5,250.712</td>\n      <td>2,027.311</td>\n      <td>+30.659218°</td>\n      <td>–87.746067°</td>\n    </tr>\n    <tr>\n      <th>2</th>\n      <td>3</td>\n      <td>AL</td>\n      <td>1005</td>\n      <td>Barbour</td>\n      <td>Clayton</td>\n      <td>27,457</td>\n      <td>2,291.819</td>\n      <td>884.876</td>\n      <td>50.865</td>\n      <td>19.639</td>\n      <td>2,342.684</td>\n      <td>904.515</td>\n      <td>+31.870670°</td>\n      <td>–85.405456°</td>\n    </tr>\n    <tr>\n      <th>3</th>\n      <td>4</td>\n      <td>AL</td>\n      <td>1007</td>\n      <td>Bibb</td>\n      <td>Centreville</td>\n      <td>22,915</td>\n      <td>1,612.481</td>\n      <td>622.582</td>\n      <td>9.289</td>\n      <td>3.587</td>\n      <td>1,621.770</td>\n      <td>626.169</td>\n      <td>+33.015893°</td>\n      <td>–87.127148°</td>\n    </tr>\n    <tr>\n      <th>4</th>\n      <td>5</td>\n      <td>AL</td>\n      <td>1009</td>\n      <td>Blount</td>\n      <td>Oneonta</td>\n      <td>57,322</td>\n      <td>1,669.962</td>\n      <td>644.776</td>\n      <td>15.157</td>\n      <td>5.852</td>\n      <td>1,685.119</td>\n      <td>650.628</td>\n      <td>+33.977448°</td>\n      <td>–86.567246°</td>\n    </tr>\n  </tbody>\n</table>\n</div>",
      "text/plain": "   Sort [1] State  FIPS County [2] County Seat(s) [3] Population(2010)  \\\n0         1    AL  1001    Autauga         Prattville           54,571   \n1         2    AL  1003    Baldwin        Bay Minette          182,265   \n2         3    AL  1005    Barbour            Clayton           27,457   \n3         4    AL  1007       Bibb        Centreville           22,915   \n4         5    AL  1009     Blount            Oneonta           57,322   \n\n  Land Areakm² Land Areami² Water Areakm² Water Areami² Total Areakm²  \\\n0    1,539.582      594.436        25.776         9.952     1,565.358   \n1    4,117.522    1,589.784     1,133.190       437.527     5,250.712   \n2    2,291.819      884.876        50.865        19.639     2,342.684   \n3    1,612.481      622.582         9.289         3.587     1,621.770   \n4    1,669.962      644.776        15.157         5.852     1,685.119   \n\n  Total Areami²     Latitude    Longitude  \n0       604.388  +32.536382°  –86.644490°  \n1     2,027.311  +30.659218°  –87.746067°  \n2       904.515  +31.870670°  –85.405456°  \n3       626.169  +33.015893°  –87.127148°  \n4       650.628  +33.977448°  –86.567246°  "
     },
     "execution_count": 3,
     "metadata": {},
     "output_type": "execute_result"
    },
    {
     "data": {
      "text/html": "<div>\n<style scoped>\n    .dataframe tbody tr th:only-of-type {\n        vertical-align: middle;\n    }\n\n    .dataframe tbody tr th {\n        vertical-align: top;\n    }\n\n    .dataframe thead th {\n        text-align: right;\n    }\n</style>\n<table border=\"1\" class=\"dataframe\">\n  <thead>\n    <tr style=\"text-align: right;\">\n      <th></th>\n      <th>Sort [1]</th>\n      <th>FIPS</th>\n    </tr>\n  </thead>\n  <tbody>\n    <tr>\n      <th>count</th>\n      <td>3143.000000</td>\n      <td>3143.000000</td>\n    </tr>\n    <tr>\n      <th>mean</th>\n      <td>1572.000000</td>\n      <td>30390.408209</td>\n    </tr>\n    <tr>\n      <th>std</th>\n      <td>907.450274</td>\n      <td>15164.714091</td>\n    </tr>\n    <tr>\n      <th>min</th>\n      <td>1.000000</td>\n      <td>1001.000000</td>\n    </tr>\n    <tr>\n      <th>25%</th>\n      <td>786.500000</td>\n      <td>18178.000000</td>\n    </tr>\n    <tr>\n      <th>50%</th>\n      <td>1572.000000</td>\n      <td>29177.000000</td>\n    </tr>\n    <tr>\n      <th>75%</th>\n      <td>2357.500000</td>\n      <td>45082.000000</td>\n    </tr>\n    <tr>\n      <th>max</th>\n      <td>3143.000000</td>\n      <td>56045.000000</td>\n    </tr>\n  </tbody>\n</table>\n</div>",
      "text/plain": "          Sort [1]          FIPS\ncount  3143.000000   3143.000000\nmean   1572.000000  30390.408209\nstd     907.450274  15164.714091\nmin       1.000000   1001.000000\n25%     786.500000  18178.000000\n50%    1572.000000  29177.000000\n75%    2357.500000  45082.000000\nmax    3143.000000  56045.000000"
     },
     "execution_count": 3,
     "metadata": {},
     "output_type": "execute_result"
    },
    {
     "data": {
      "text/plain": "['Sort [1]',\n 'State',\n 'FIPS',\n 'County [2]',\n 'County Seat(s) [3]',\n 'Population(2010)',\n 'Land Areakm²',\n 'Land Areami²',\n 'Water Areakm²',\n 'Water Areami²',\n 'Total Areakm²',\n 'Total Areami²',\n 'Latitude',\n 'Longitude']"
     },
     "execution_count": 3,
     "metadata": {},
     "output_type": "execute_result"
    }
   ],
   "source": [
    "df.head()\n",
    "df.describe()\n",
    "list(df.columns)"
   ]
  },
  {
   "cell_type": "code",
   "execution_count": 4,
   "metadata": {},
   "outputs": [],
   "source": [
    "df = df[['State', \n",
    "         'County [2]', \n",
    "         'Population(2010)', \n",
    "         'Total Areakm²',\n",
    "         'Latitude',\n",
    "         'Longitude']]"
   ]
  },
  {
   "cell_type": "code",
   "execution_count": 5,
   "metadata": {},
   "outputs": [],
   "source": [
    "df.columns = [\n",
    "    'State', \n",
    "    'County', \n",
    "    'Population', \n",
    "    'Total Area (km)',\n",
    "    'Latitude',\n",
    "    'Longitude'\n",
    "    ]"
   ]
  },
  {
   "cell_type": "code",
   "execution_count": 6,
   "metadata": {},
   "outputs": [],
   "source": [
    "df.Latitude = df.Latitude.str[:-1].astype(float)\n",
    "df.Longitude = df.Longitude.str[:-1] \\\n",
    "                             .str.replace('–', '-') \\\n",
    "                             .astype(float)\n",
    "df.Population = df.Population.str.replace(',', '').astype(int)\n",
    "df = df[df.Population >= 0]\n",
    "df['Total Area (km)'] = df['Total Area (km)'].str.replace(',', '').astype(float)"
   ]
  },
  {
   "cell_type": "code",
   "execution_count": 7,
   "metadata": {},
   "outputs": [],
   "source": [
    "df.to_csv('../../data/cleaned/counties.csv', index=False)"
   ]
  }
 ]
}