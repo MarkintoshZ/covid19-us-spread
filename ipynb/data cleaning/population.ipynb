{
 "nbformat": 4,
 "nbformat_minor": 2,
 "metadata": {
  "language_info": {
   "name": "python",
   "codemirror_mode": {
    "name": "ipython",
    "version": 3
   },
   "version": "3.6.5-final"
  },
  "orig_nbformat": 2,
  "file_extension": ".py",
  "mimetype": "text/x-python",
  "name": "python",
  "npconvert_exporter": "python",
  "pygments_lexer": "ipython3",
  "version": 3,
  "kernelspec": {
   "name": "python36564bit51264a06daec42be872742319b0f44dc",
   "display_name": "Python 3.6.5 64-bit"
  }
 },
 "cells": [
  {
   "cell_type": "code",
   "execution_count": 1,
   "metadata": {},
   "outputs": [],
   "source": [
    "import numpy as np\n",
    "import pandas as pd\n",
    "from IPython.core.interactiveshell import InteractiveShell\n",
    "InteractiveShell.ast_node_interactivity = \"all\""
   ]
  },
  {
   "cell_type": "code",
   "execution_count": 2,
   "metadata": {},
   "outputs": [],
   "source": [
    "df = pd.read_csv('../../data/raw/co-est2018-alldata.csv', encoding = \"ISO-8859-1\")"
   ]
  },
  {
   "cell_type": "code",
   "execution_count": 3,
   "metadata": {},
   "outputs": [
    {
     "output_type": "execute_result",
     "data": {
      "text/plain": "   SUMLEV  REGION  DIVISION  STATE  COUNTY   STNAME         CTYNAME  \\\n0      40       3         6      1       0  Alabama         Alabama   \n1      50       3         6      1       1  Alabama  Autauga County   \n2      50       3         6      1       3  Alabama  Baldwin County   \n3      50       3         6      1       5  Alabama  Barbour County   \n4      50       3         6      1       7  Alabama     Bibb County   \n\n   CENSUS2010POP  ESTIMATESBASE2010  POPESTIMATE2010  ...  RDOMESTICMIG2017  \\\n0        4779736            4780138          4785448  ...          0.424031   \n1          54571              54574            54754  ...          1.066088   \n2         182265             182264           183111  ...         21.996950   \n3          27457              27457            27330  ...        -25.501697   \n4          22915              22920            22872  ...         -3.589550   \n\n   RDOMESTICMIG2018  RNETMIG2011  RNETMIG2012  RNETMIG2013  RNETMIG2014  \\\n0          1.171362     0.516888     1.234191     1.607294     0.619874   \n1          0.666403     6.002073    -6.119262    -3.885124     1.971001   \n2         24.298662    16.345147    17.638173    22.876199    20.239802   \n3         -9.072923     0.256035    -6.786002    -8.093425    -5.102231   \n4         -7.029251    -5.041759    -3.787629    -5.666224     1.065317   \n\n   RNETMIG2015  RNETMIG2016  RNETMIG2017  RNETMIG2018  \n0     0.646064     0.817666     1.079070     1.856398  \n1    -1.859380     5.250727     1.029950     0.630381  \n2    17.932091    21.484903    22.534622    24.846682  \n3   -15.531931   -18.152860   -25.030896    -8.593297  \n4     1.507660    -0.753246    -3.146396    -6.584362  \n\n[5 rows x 148 columns]",
      "text/html": "<div>\n<style scoped>\n    .dataframe tbody tr th:only-of-type {\n        vertical-align: middle;\n    }\n\n    .dataframe tbody tr th {\n        vertical-align: top;\n    }\n\n    .dataframe thead th {\n        text-align: right;\n    }\n</style>\n<table border=\"1\" class=\"dataframe\">\n  <thead>\n    <tr style=\"text-align: right;\">\n      <th></th>\n      <th>SUMLEV</th>\n      <th>REGION</th>\n      <th>DIVISION</th>\n      <th>STATE</th>\n      <th>COUNTY</th>\n      <th>STNAME</th>\n      <th>CTYNAME</th>\n      <th>CENSUS2010POP</th>\n      <th>ESTIMATESBASE2010</th>\n      <th>POPESTIMATE2010</th>\n      <th>...</th>\n      <th>RDOMESTICMIG2017</th>\n      <th>RDOMESTICMIG2018</th>\n      <th>RNETMIG2011</th>\n      <th>RNETMIG2012</th>\n      <th>RNETMIG2013</th>\n      <th>RNETMIG2014</th>\n      <th>RNETMIG2015</th>\n      <th>RNETMIG2016</th>\n      <th>RNETMIG2017</th>\n      <th>RNETMIG2018</th>\n    </tr>\n  </thead>\n  <tbody>\n    <tr>\n      <th>0</th>\n      <td>40</td>\n      <td>3</td>\n      <td>6</td>\n      <td>1</td>\n      <td>0</td>\n      <td>Alabama</td>\n      <td>Alabama</td>\n      <td>4779736</td>\n      <td>4780138</td>\n      <td>4785448</td>\n      <td>...</td>\n      <td>0.424031</td>\n      <td>1.171362</td>\n      <td>0.516888</td>\n      <td>1.234191</td>\n      <td>1.607294</td>\n      <td>0.619874</td>\n      <td>0.646064</td>\n      <td>0.817666</td>\n      <td>1.079070</td>\n      <td>1.856398</td>\n    </tr>\n    <tr>\n      <th>1</th>\n      <td>50</td>\n      <td>3</td>\n      <td>6</td>\n      <td>1</td>\n      <td>1</td>\n      <td>Alabama</td>\n      <td>Autauga County</td>\n      <td>54571</td>\n      <td>54574</td>\n      <td>54754</td>\n      <td>...</td>\n      <td>1.066088</td>\n      <td>0.666403</td>\n      <td>6.002073</td>\n      <td>-6.119262</td>\n      <td>-3.885124</td>\n      <td>1.971001</td>\n      <td>-1.859380</td>\n      <td>5.250727</td>\n      <td>1.029950</td>\n      <td>0.630381</td>\n    </tr>\n    <tr>\n      <th>2</th>\n      <td>50</td>\n      <td>3</td>\n      <td>6</td>\n      <td>1</td>\n      <td>3</td>\n      <td>Alabama</td>\n      <td>Baldwin County</td>\n      <td>182265</td>\n      <td>182264</td>\n      <td>183111</td>\n      <td>...</td>\n      <td>21.996950</td>\n      <td>24.298662</td>\n      <td>16.345147</td>\n      <td>17.638173</td>\n      <td>22.876199</td>\n      <td>20.239802</td>\n      <td>17.932091</td>\n      <td>21.484903</td>\n      <td>22.534622</td>\n      <td>24.846682</td>\n    </tr>\n    <tr>\n      <th>3</th>\n      <td>50</td>\n      <td>3</td>\n      <td>6</td>\n      <td>1</td>\n      <td>5</td>\n      <td>Alabama</td>\n      <td>Barbour County</td>\n      <td>27457</td>\n      <td>27457</td>\n      <td>27330</td>\n      <td>...</td>\n      <td>-25.501697</td>\n      <td>-9.072923</td>\n      <td>0.256035</td>\n      <td>-6.786002</td>\n      <td>-8.093425</td>\n      <td>-5.102231</td>\n      <td>-15.531931</td>\n      <td>-18.152860</td>\n      <td>-25.030896</td>\n      <td>-8.593297</td>\n    </tr>\n    <tr>\n      <th>4</th>\n      <td>50</td>\n      <td>3</td>\n      <td>6</td>\n      <td>1</td>\n      <td>7</td>\n      <td>Alabama</td>\n      <td>Bibb County</td>\n      <td>22915</td>\n      <td>22920</td>\n      <td>22872</td>\n      <td>...</td>\n      <td>-3.589550</td>\n      <td>-7.029251</td>\n      <td>-5.041759</td>\n      <td>-3.787629</td>\n      <td>-5.666224</td>\n      <td>1.065317</td>\n      <td>1.507660</td>\n      <td>-0.753246</td>\n      <td>-3.146396</td>\n      <td>-6.584362</td>\n    </tr>\n  </tbody>\n</table>\n<p>5 rows × 148 columns</p>\n</div>"
     },
     "metadata": {},
     "execution_count": 3
    },
    {
     "output_type": "execute_result",
     "data": {
      "text/plain": "            SUMLEV       REGION     DIVISION        STATE       COUNTY  \\\ncount  3193.000000  3193.000000  3193.000000  3193.000000  3193.000000   \nmean     49.840276     2.668650     5.191356    30.259004   101.918572   \nstd       1.253884     0.807513     1.973991    15.153897   107.626583   \nmin      40.000000     1.000000     1.000000     1.000000     0.000000   \n25%      50.000000     2.000000     4.000000    18.000000    33.000000   \n50%      50.000000     3.000000     5.000000    29.000000    77.000000   \n75%      50.000000     3.000000     7.000000    45.000000   133.000000   \nmax      50.000000     4.000000     9.000000    56.000000   840.000000   \n\n       CENSUS2010POP  ESTIMATESBASE2010  POPESTIMATE2010  POPESTIMATE2011  \\\ncount   3.193000e+03       3.193000e+03     3.193000e+03     3.193000e+03   \nmean    1.933871e+05       1.933969e+05     1.937526e+05     1.951644e+05   \nstd     1.176201e+06       1.176245e+06     1.178525e+06     1.188693e+06   \nmin     8.200000e+01       8.200000e+01     8.400000e+01     9.000000e+01   \n25%     1.129900e+04       1.129600e+04     1.127400e+04     1.123900e+04   \n50%     2.642400e+04       2.640500e+04     2.646400e+04     2.642000e+04   \n75%     7.140400e+04       7.148500e+04     7.167200e+04     7.232800e+04   \nmax     3.725396e+07       3.725452e+07     3.732090e+07     3.764182e+07   \n\n       POPESTIMATE2012  ...  RDOMESTICMIG2017  RDOMESTICMIG2018  RNETMIG2011  \\\ncount     3.193000e+03  ...       3193.000000       3193.000000  3193.000000   \nmean      1.966015e+05  ...         -0.138742         -0.005717    -0.965694   \nstd       1.199032e+06  ...         12.929942         11.399481    10.446482   \nmin       8.600000e+01  ...        -68.755498        -62.267715  -128.205128   \n25%       1.120000e+04  ...         -6.542629         -6.146014    -5.829574   \n50%       2.638500e+04  ...         -0.484198         -0.518668    -0.917066   \n75%       7.223800e+04  ...          6.670177          5.946850     3.710145   \nmax       3.796078e+07  ...        150.197628         69.444444   122.905028   \n\n       RNETMIG2012  RNETMIG2013  RNETMIG2014  RNETMIG2015  RNETMIG2016  \\\ncount  3193.000000  3193.000000  3193.000000  3193.000000  3193.000000   \nmean     -1.578025    -0.601590    -0.788958    -0.408385    -0.043331   \nstd      11.854254    11.813969    11.151401    12.459689    13.074531   \nmin     -99.447514   -98.755187  -174.358974   -75.518089  -108.154101   \n25%      -6.909274    -5.891276    -6.176610    -5.981444    -6.042211   \n50%      -1.736808    -1.002234    -1.090096    -0.954198    -0.604266   \n75%       3.504348     4.354136     4.347826     5.010005     5.873749   \nmax     120.152193   208.333333   150.328411   278.846154   209.666667   \n\n       RNETMIG2017  RNETMIG2018  \ncount  3193.000000  3193.000000  \nmean      0.987453     1.137715  \nstd      12.874621    11.318970  \nmin     -68.349462   -62.145860  \n25%      -5.332640    -5.006258  \n50%       0.528755     0.555717  \n75%       7.523993     6.833433  \nmax     150.197628    69.444444  \n\n[8 rows x 146 columns]",
      "text/html": "<div>\n<style scoped>\n    .dataframe tbody tr th:only-of-type {\n        vertical-align: middle;\n    }\n\n    .dataframe tbody tr th {\n        vertical-align: top;\n    }\n\n    .dataframe thead th {\n        text-align: right;\n    }\n</style>\n<table border=\"1\" class=\"dataframe\">\n  <thead>\n    <tr style=\"text-align: right;\">\n      <th></th>\n      <th>SUMLEV</th>\n      <th>REGION</th>\n      <th>DIVISION</th>\n      <th>STATE</th>\n      <th>COUNTY</th>\n      <th>CENSUS2010POP</th>\n      <th>ESTIMATESBASE2010</th>\n      <th>POPESTIMATE2010</th>\n      <th>POPESTIMATE2011</th>\n      <th>POPESTIMATE2012</th>\n      <th>...</th>\n      <th>RDOMESTICMIG2017</th>\n      <th>RDOMESTICMIG2018</th>\n      <th>RNETMIG2011</th>\n      <th>RNETMIG2012</th>\n      <th>RNETMIG2013</th>\n      <th>RNETMIG2014</th>\n      <th>RNETMIG2015</th>\n      <th>RNETMIG2016</th>\n      <th>RNETMIG2017</th>\n      <th>RNETMIG2018</th>\n    </tr>\n  </thead>\n  <tbody>\n    <tr>\n      <th>count</th>\n      <td>3193.000000</td>\n      <td>3193.000000</td>\n      <td>3193.000000</td>\n      <td>3193.000000</td>\n      <td>3193.000000</td>\n      <td>3.193000e+03</td>\n      <td>3.193000e+03</td>\n      <td>3.193000e+03</td>\n      <td>3.193000e+03</td>\n      <td>3.193000e+03</td>\n      <td>...</td>\n      <td>3193.000000</td>\n      <td>3193.000000</td>\n      <td>3193.000000</td>\n      <td>3193.000000</td>\n      <td>3193.000000</td>\n      <td>3193.000000</td>\n      <td>3193.000000</td>\n      <td>3193.000000</td>\n      <td>3193.000000</td>\n      <td>3193.000000</td>\n    </tr>\n    <tr>\n      <th>mean</th>\n      <td>49.840276</td>\n      <td>2.668650</td>\n      <td>5.191356</td>\n      <td>30.259004</td>\n      <td>101.918572</td>\n      <td>1.933871e+05</td>\n      <td>1.933969e+05</td>\n      <td>1.937526e+05</td>\n      <td>1.951644e+05</td>\n      <td>1.966015e+05</td>\n      <td>...</td>\n      <td>-0.138742</td>\n      <td>-0.005717</td>\n      <td>-0.965694</td>\n      <td>-1.578025</td>\n      <td>-0.601590</td>\n      <td>-0.788958</td>\n      <td>-0.408385</td>\n      <td>-0.043331</td>\n      <td>0.987453</td>\n      <td>1.137715</td>\n    </tr>\n    <tr>\n      <th>std</th>\n      <td>1.253884</td>\n      <td>0.807513</td>\n      <td>1.973991</td>\n      <td>15.153897</td>\n      <td>107.626583</td>\n      <td>1.176201e+06</td>\n      <td>1.176245e+06</td>\n      <td>1.178525e+06</td>\n      <td>1.188693e+06</td>\n      <td>1.199032e+06</td>\n      <td>...</td>\n      <td>12.929942</td>\n      <td>11.399481</td>\n      <td>10.446482</td>\n      <td>11.854254</td>\n      <td>11.813969</td>\n      <td>11.151401</td>\n      <td>12.459689</td>\n      <td>13.074531</td>\n      <td>12.874621</td>\n      <td>11.318970</td>\n    </tr>\n    <tr>\n      <th>min</th>\n      <td>40.000000</td>\n      <td>1.000000</td>\n      <td>1.000000</td>\n      <td>1.000000</td>\n      <td>0.000000</td>\n      <td>8.200000e+01</td>\n      <td>8.200000e+01</td>\n      <td>8.400000e+01</td>\n      <td>9.000000e+01</td>\n      <td>8.600000e+01</td>\n      <td>...</td>\n      <td>-68.755498</td>\n      <td>-62.267715</td>\n      <td>-128.205128</td>\n      <td>-99.447514</td>\n      <td>-98.755187</td>\n      <td>-174.358974</td>\n      <td>-75.518089</td>\n      <td>-108.154101</td>\n      <td>-68.349462</td>\n      <td>-62.145860</td>\n    </tr>\n    <tr>\n      <th>25%</th>\n      <td>50.000000</td>\n      <td>2.000000</td>\n      <td>4.000000</td>\n      <td>18.000000</td>\n      <td>33.000000</td>\n      <td>1.129900e+04</td>\n      <td>1.129600e+04</td>\n      <td>1.127400e+04</td>\n      <td>1.123900e+04</td>\n      <td>1.120000e+04</td>\n      <td>...</td>\n      <td>-6.542629</td>\n      <td>-6.146014</td>\n      <td>-5.829574</td>\n      <td>-6.909274</td>\n      <td>-5.891276</td>\n      <td>-6.176610</td>\n      <td>-5.981444</td>\n      <td>-6.042211</td>\n      <td>-5.332640</td>\n      <td>-5.006258</td>\n    </tr>\n    <tr>\n      <th>50%</th>\n      <td>50.000000</td>\n      <td>3.000000</td>\n      <td>5.000000</td>\n      <td>29.000000</td>\n      <td>77.000000</td>\n      <td>2.642400e+04</td>\n      <td>2.640500e+04</td>\n      <td>2.646400e+04</td>\n      <td>2.642000e+04</td>\n      <td>2.638500e+04</td>\n      <td>...</td>\n      <td>-0.484198</td>\n      <td>-0.518668</td>\n      <td>-0.917066</td>\n      <td>-1.736808</td>\n      <td>-1.002234</td>\n      <td>-1.090096</td>\n      <td>-0.954198</td>\n      <td>-0.604266</td>\n      <td>0.528755</td>\n      <td>0.555717</td>\n    </tr>\n    <tr>\n      <th>75%</th>\n      <td>50.000000</td>\n      <td>3.000000</td>\n      <td>7.000000</td>\n      <td>45.000000</td>\n      <td>133.000000</td>\n      <td>7.140400e+04</td>\n      <td>7.148500e+04</td>\n      <td>7.167200e+04</td>\n      <td>7.232800e+04</td>\n      <td>7.223800e+04</td>\n      <td>...</td>\n      <td>6.670177</td>\n      <td>5.946850</td>\n      <td>3.710145</td>\n      <td>3.504348</td>\n      <td>4.354136</td>\n      <td>4.347826</td>\n      <td>5.010005</td>\n      <td>5.873749</td>\n      <td>7.523993</td>\n      <td>6.833433</td>\n    </tr>\n    <tr>\n      <th>max</th>\n      <td>50.000000</td>\n      <td>4.000000</td>\n      <td>9.000000</td>\n      <td>56.000000</td>\n      <td>840.000000</td>\n      <td>3.725396e+07</td>\n      <td>3.725452e+07</td>\n      <td>3.732090e+07</td>\n      <td>3.764182e+07</td>\n      <td>3.796078e+07</td>\n      <td>...</td>\n      <td>150.197628</td>\n      <td>69.444444</td>\n      <td>122.905028</td>\n      <td>120.152193</td>\n      <td>208.333333</td>\n      <td>150.328411</td>\n      <td>278.846154</td>\n      <td>209.666667</td>\n      <td>150.197628</td>\n      <td>69.444444</td>\n    </tr>\n  </tbody>\n</table>\n<p>8 rows × 146 columns</p>\n</div>"
     },
     "metadata": {},
     "execution_count": 3
    },
    {
     "output_type": "execute_result",
     "data": {
      "text/plain": "['SUMLEV',\n 'REGION',\n 'DIVISION',\n 'STATE',\n 'COUNTY',\n 'STNAME',\n 'CTYNAME',\n 'CENSUS2010POP',\n 'ESTIMATESBASE2010',\n 'POPESTIMATE2010',\n 'POPESTIMATE2011',\n 'POPESTIMATE2012',\n 'POPESTIMATE2013',\n 'POPESTIMATE2014',\n 'POPESTIMATE2015',\n 'POPESTIMATE2016',\n 'POPESTIMATE2017',\n 'POPESTIMATE2018',\n 'NPOPCHG_2010',\n 'NPOPCHG_2011',\n 'NPOPCHG_2012',\n 'NPOPCHG_2013',\n 'NPOPCHG_2014',\n 'NPOPCHG_2015',\n 'NPOPCHG_2016',\n 'NPOPCHG_2017',\n 'NPOPCHG_2018',\n 'BIRTHS2010',\n 'BIRTHS2011',\n 'BIRTHS2012',\n 'BIRTHS2013',\n 'BIRTHS2014',\n 'BIRTHS2015',\n 'BIRTHS2016',\n 'BIRTHS2017',\n 'BIRTHS2018',\n 'DEATHS2010',\n 'DEATHS2011',\n 'DEATHS2012',\n 'DEATHS2013',\n 'DEATHS2014',\n 'DEATHS2015',\n 'DEATHS2016',\n 'DEATHS2017',\n 'DEATHS2018',\n 'NATURALINC2010',\n 'NATURALINC2011',\n 'NATURALINC2012',\n 'NATURALINC2013',\n 'NATURALINC2014',\n 'NATURALINC2015',\n 'NATURALINC2016',\n 'NATURALINC2017',\n 'NATURALINC2018',\n 'INTERNATIONALMIG2010',\n 'INTERNATIONALMIG2011',\n 'INTERNATIONALMIG2012',\n 'INTERNATIONALMIG2013',\n 'INTERNATIONALMIG2014',\n 'INTERNATIONALMIG2015',\n 'INTERNATIONALMIG2016',\n 'INTERNATIONALMIG2017',\n 'INTERNATIONALMIG2018',\n 'DOMESTICMIG2010',\n 'DOMESTICMIG2011',\n 'DOMESTICMIG2012',\n 'DOMESTICMIG2013',\n 'DOMESTICMIG2014',\n 'DOMESTICMIG2015',\n 'DOMESTICMIG2016',\n 'DOMESTICMIG2017',\n 'DOMESTICMIG2018',\n 'NETMIG2010',\n 'NETMIG2011',\n 'NETMIG2012',\n 'NETMIG2013',\n 'NETMIG2014',\n 'NETMIG2015',\n 'NETMIG2016',\n 'NETMIG2017',\n 'NETMIG2018',\n 'RESIDUAL2010',\n 'RESIDUAL2011',\n 'RESIDUAL2012',\n 'RESIDUAL2013',\n 'RESIDUAL2014',\n 'RESIDUAL2015',\n 'RESIDUAL2016',\n 'RESIDUAL2017',\n 'RESIDUAL2018',\n 'GQESTIMATESBASE2010',\n 'GQESTIMATES2010',\n 'GQESTIMATES2011',\n 'GQESTIMATES2012',\n 'GQESTIMATES2013',\n 'GQESTIMATES2014',\n 'GQESTIMATES2015',\n 'GQESTIMATES2016',\n 'GQESTIMATES2017',\n 'GQESTIMATES2018',\n 'RBIRTH2011',\n 'RBIRTH2012',\n 'RBIRTH2013',\n 'RBIRTH2014',\n 'RBIRTH2015',\n 'RBIRTH2016',\n 'RBIRTH2017',\n 'RBIRTH2018',\n 'RDEATH2011',\n 'RDEATH2012',\n 'RDEATH2013',\n 'RDEATH2014',\n 'RDEATH2015',\n 'RDEATH2016',\n 'RDEATH2017',\n 'RDEATH2018',\n 'RNATURALINC2011',\n 'RNATURALINC2012',\n 'RNATURALINC2013',\n 'RNATURALINC2014',\n 'RNATURALINC2015',\n 'RNATURALINC2016',\n 'RNATURALINC2017',\n 'RNATURALINC2018',\n 'RINTERNATIONALMIG2011',\n 'RINTERNATIONALMIG2012',\n 'RINTERNATIONALMIG2013',\n 'RINTERNATIONALMIG2014',\n 'RINTERNATIONALMIG2015',\n 'RINTERNATIONALMIG2016',\n 'RINTERNATIONALMIG2017',\n 'RINTERNATIONALMIG2018',\n 'RDOMESTICMIG2011',\n 'RDOMESTICMIG2012',\n 'RDOMESTICMIG2013',\n 'RDOMESTICMIG2014',\n 'RDOMESTICMIG2015',\n 'RDOMESTICMIG2016',\n 'RDOMESTICMIG2017',\n 'RDOMESTICMIG2018',\n 'RNETMIG2011',\n 'RNETMIG2012',\n 'RNETMIG2013',\n 'RNETMIG2014',\n 'RNETMIG2015',\n 'RNETMIG2016',\n 'RNETMIG2017',\n 'RNETMIG2018']"
     },
     "metadata": {},
     "execution_count": 3
    }
   ],
   "source": [
    "df.head()\n",
    "df.describe()\n",
    "list(df.columns)"
   ]
  },
  {
   "cell_type": "code",
   "execution_count": 4,
   "metadata": {},
   "outputs": [],
   "source": [
    "df = df[['COUNTY',\n",
    "         'STNAME',\n",
    "         'CTYNAME',\n",
    "         'CENSUS2010POP',\n",
    "         'POPESTIMATE2018']]"
   ]
  },
  {
   "cell_type": "code",
   "execution_count": 5,
   "metadata": {},
   "outputs": [
    {
     "output_type": "execute_result",
     "data": {
      "text/plain": "array(['Alabama', 'Alaska', 'Arizona', 'Arkansas', 'California',\n       'Colorado', 'Connecticut', 'Delaware', 'District of Columbia',\n       'Florida', 'Georgia', 'Hawaii', 'Idaho', 'Illinois', 'Indiana',\n       'Iowa', 'Kansas', 'Kentucky', 'Louisiana', 'Maine', 'Maryland',\n       'Massachusetts', 'Michigan', 'Minnesota', 'Mississippi',\n       'Missouri', 'Montana', 'Nebraska', 'Nevada', 'New Hampshire',\n       'New Jersey', 'New Mexico', 'New York', 'North Carolina',\n       'North Dakota', 'Ohio', 'Oklahoma', 'Oregon', 'Pennsylvania',\n       'Rhode Island', 'South Carolina', 'South Dakota', 'Tennessee',\n       'Texas', 'Utah', 'Vermont', 'Virginia', 'Washington',\n       'West Virginia', 'Wisconsin', 'Wyoming'], dtype=object)"
     },
     "metadata": {},
     "execution_count": 5
    }
   ],
   "source": [
    "df.STNAME.unique()"
   ]
  },
  {
   "cell_type": "code",
   "execution_count": 6,
   "metadata": {},
   "outputs": [],
   "source": [
    "df.dropna(how='any', inplace=True)"
   ]
  },
  {
   "cell_type": "code",
   "execution_count": 7,
   "metadata": {},
   "outputs": [],
   "source": [
    "df.to_csv('../../data/cleaned/population.csv', index=False)"
   ]
  }
 ]
}