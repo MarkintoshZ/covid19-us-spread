{
 "nbformat": 4,
 "nbformat_minor": 2,
 "metadata": {
  "language_info": {
   "name": "python",
   "codemirror_mode": {
    "name": "ipython",
    "version": 3
   },
   "version": "3.6.5-final"
  },
  "orig_nbformat": 2,
  "file_extension": ".py",
  "mimetype": "text/x-python",
  "name": "python",
  "npconvert_exporter": "python",
  "pygments_lexer": "ipython3",
  "version": 3,
  "kernelspec": {
   "name": "python36564bit51264a06daec42be872742319b0f44dc",
   "display_name": "Python 3.6.5 64-bit"
  }
 },
 "cells": [
  {
   "cell_type": "code",
   "execution_count": 1,
   "metadata": {},
   "outputs": [],
   "source": [
    "import numpy as np\n",
    "import pandas as pd\n",
    "from IPython.core.interactiveshell import InteractiveShell\n",
    "InteractiveShell.ast_node_interactivity = \"all\""
   ]
  },
  {
   "cell_type": "code",
   "execution_count": 2,
   "metadata": {},
   "outputs": [],
   "source": [
    "df = pd.read_excel('../../data/raw/table1.xlsx')"
   ]
  },
  {
   "cell_type": "code",
   "execution_count": 3,
   "metadata": {},
   "outputs": [
    {
     "data": {
      "text/html": "<div>\n<style scoped>\n    .dataframe tbody tr th:only-of-type {\n        vertical-align: middle;\n    }\n\n    .dataframe tbody tr th {\n        vertical-align: top;\n    }\n\n    .dataframe thead th {\n        text-align: right;\n    }\n</style>\n<table border=\"1\" class=\"dataframe\">\n  <thead>\n    <tr style=\"text-align: right;\">\n      <th></th>\n      <th>Table with row headers in column A and column headers in rows 6 and 7</th>\n      <th>Unnamed: 1</th>\n      <th>Unnamed: 2</th>\n      <th>Unnamed: 3</th>\n      <th>Unnamed: 4</th>\n      <th>Unnamed: 5</th>\n      <th>Unnamed: 6</th>\n      <th>Unnamed: 7</th>\n      <th>Unnamed: 8</th>\n      <th>Unnamed: 9</th>\n    </tr>\n  </thead>\n  <tbody>\n    <tr>\n      <th>0</th>\n      <td>Table 1. Residence County to Workplace County ...</td>\n      <td>NaN</td>\n      <td>NaN</td>\n      <td>NaN</td>\n      <td>NaN</td>\n      <td>NaN</td>\n      <td>NaN</td>\n      <td>NaN</td>\n      <td>NaN</td>\n      <td>NaN</td>\n    </tr>\n    <tr>\n      <th>1</th>\n      <td>For more information on sampling and estimatio...</td>\n      <td>NaN</td>\n      <td>NaN</td>\n      <td>NaN</td>\n      <td>NaN</td>\n      <td>NaN</td>\n      <td>NaN</td>\n      <td>NaN</td>\n      <td>NaN</td>\n      <td>NaN</td>\n    </tr>\n    <tr>\n      <th>2</th>\n      <td>Universe: Workers 16 years and over.</td>\n      <td>NaN</td>\n      <td>NaN</td>\n      <td>NaN</td>\n      <td>NaN</td>\n      <td>NaN</td>\n      <td>NaN</td>\n      <td>NaN</td>\n      <td>NaN</td>\n      <td>NaN</td>\n    </tr>\n    <tr>\n      <th>3</th>\n      <td>Commuting flows are sorted by residence state ...</td>\n      <td>NaN</td>\n      <td>NaN</td>\n      <td>NaN</td>\n      <td>NaN</td>\n      <td>NaN</td>\n      <td>NaN</td>\n      <td>NaN</td>\n      <td>NaN</td>\n      <td>NaN</td>\n    </tr>\n    <tr>\n      <th>4</th>\n      <td>Residence</td>\n      <td>NaN</td>\n      <td>NaN</td>\n      <td>NaN</td>\n      <td>Place of Work</td>\n      <td>NaN</td>\n      <td>NaN</td>\n      <td>NaN</td>\n      <td>Commuting Flow</td>\n      <td>NaN</td>\n    </tr>\n    <tr>\n      <th>5</th>\n      <td>State FIPS Code</td>\n      <td>County FIPS Code</td>\n      <td>State Name</td>\n      <td>County Name</td>\n      <td>State FIPS Code</td>\n      <td>County FIPS Code</td>\n      <td>State Name</td>\n      <td>County Name</td>\n      <td>Workers in Commuting Flow</td>\n      <td>Margin of Error</td>\n    </tr>\n    <tr>\n      <th>6</th>\n      <td>01</td>\n      <td>001</td>\n      <td>Alabama</td>\n      <td>Autauga County</td>\n      <td>001</td>\n      <td>001</td>\n      <td>Alabama</td>\n      <td>Autauga County</td>\n      <td>8828</td>\n      <td>752</td>\n    </tr>\n    <tr>\n      <th>7</th>\n      <td>01</td>\n      <td>001</td>\n      <td>Alabama</td>\n      <td>Autauga County</td>\n      <td>001</td>\n      <td>013</td>\n      <td>Alabama</td>\n      <td>Butler County</td>\n      <td>6</td>\n      <td>10</td>\n    </tr>\n    <tr>\n      <th>8</th>\n      <td>01</td>\n      <td>001</td>\n      <td>Alabama</td>\n      <td>Autauga County</td>\n      <td>001</td>\n      <td>021</td>\n      <td>Alabama</td>\n      <td>Chilton County</td>\n      <td>504</td>\n      <td>228</td>\n    </tr>\n    <tr>\n      <th>9</th>\n      <td>01</td>\n      <td>001</td>\n      <td>Alabama</td>\n      <td>Autauga County</td>\n      <td>001</td>\n      <td>043</td>\n      <td>Alabama</td>\n      <td>Cullman County</td>\n      <td>27</td>\n      <td>44</td>\n    </tr>\n  </tbody>\n</table>\n</div>",
      "text/plain": "  Table with row headers in column A and column headers in rows 6 and 7  \\\n0  Table 1. Residence County to Workplace County ...                      \n1  For more information on sampling and estimatio...                      \n2               Universe: Workers 16 years and over.                      \n3  Commuting flows are sorted by residence state ...                      \n4                                          Residence                      \n5                                    State FIPS Code                      \n6                                                 01                      \n7                                                 01                      \n8                                                 01                      \n9                                                 01                      \n\n         Unnamed: 1  Unnamed: 2      Unnamed: 3       Unnamed: 4  \\\n0               NaN         NaN             NaN              NaN   \n1               NaN         NaN             NaN              NaN   \n2               NaN         NaN             NaN              NaN   \n3               NaN         NaN             NaN              NaN   \n4               NaN         NaN             NaN    Place of Work   \n5  County FIPS Code  State Name     County Name  State FIPS Code   \n6               001     Alabama  Autauga County              001   \n7               001     Alabama  Autauga County              001   \n8               001     Alabama  Autauga County              001   \n9               001     Alabama  Autauga County              001   \n\n         Unnamed: 5  Unnamed: 6      Unnamed: 7                 Unnamed: 8  \\\n0               NaN         NaN             NaN                        NaN   \n1               NaN         NaN             NaN                        NaN   \n2               NaN         NaN             NaN                        NaN   \n3               NaN         NaN             NaN                        NaN   \n4               NaN         NaN             NaN             Commuting Flow   \n5  County FIPS Code  State Name     County Name  Workers in Commuting Flow   \n6               001     Alabama  Autauga County                       8828   \n7               013     Alabama   Butler County                          6   \n8               021     Alabama  Chilton County                        504   \n9               043     Alabama  Cullman County                         27   \n\n         Unnamed: 9  \n0               NaN  \n1               NaN  \n2               NaN  \n3               NaN  \n4               NaN  \n5   Margin of Error  \n6               752  \n7                10  \n8               228  \n9                44  "
     },
     "execution_count": 3,
     "metadata": {},
     "output_type": "execute_result"
    },
    {
     "data": {
      "text/html": "<div>\n<style scoped>\n    .dataframe tbody tr th:only-of-type {\n        vertical-align: middle;\n    }\n\n    .dataframe tbody tr th {\n        vertical-align: top;\n    }\n\n    .dataframe thead th {\n        text-align: right;\n    }\n</style>\n<table border=\"1\" class=\"dataframe\">\n  <thead>\n    <tr style=\"text-align: right;\">\n      <th></th>\n      <th>Table with row headers in column A and column headers in rows 6 and 7</th>\n      <th>Unnamed: 1</th>\n      <th>Unnamed: 2</th>\n      <th>Unnamed: 3</th>\n      <th>Unnamed: 4</th>\n      <th>Unnamed: 5</th>\n      <th>Unnamed: 6</th>\n      <th>Unnamed: 7</th>\n      <th>Unnamed: 8</th>\n      <th>Unnamed: 9</th>\n    </tr>\n  </thead>\n  <tbody>\n    <tr>\n      <th>count</th>\n      <td>139441</td>\n      <td>139434</td>\n      <td>139434</td>\n      <td>139434</td>\n      <td>138368</td>\n      <td>137807</td>\n      <td>139434</td>\n      <td>137807</td>\n      <td>139435</td>\n      <td>139434</td>\n    </tr>\n    <tr>\n      <th>unique</th>\n      <td>60</td>\n      <td>326</td>\n      <td>53</td>\n      <td>1956</td>\n      <td>56</td>\n      <td>326</td>\n      <td>56</td>\n      <td>1956</td>\n      <td>6275</td>\n      <td>1602</td>\n    </tr>\n    <tr>\n      <th>top</th>\n      <td>48</td>\n      <td>003</td>\n      <td>Texas</td>\n      <td>Washington County</td>\n      <td>048</td>\n      <td>031</td>\n      <td>Texas</td>\n      <td>Jefferson County</td>\n      <td>2</td>\n      <td>4</td>\n    </tr>\n    <tr>\n      <th>freq</th>\n      <td>10254</td>\n      <td>2775</td>\n      <td>10254</td>\n      <td>1453</td>\n      <td>10785</td>\n      <td>3100</td>\n      <td>10785</td>\n      <td>1574</td>\n      <td>5938</td>\n      <td>4890</td>\n    </tr>\n  </tbody>\n</table>\n</div>",
      "text/plain": "       Table with row headers in column A and column headers in rows 6 and 7  \\\ncount                                              139441                      \nunique                                                 60                      \ntop                                                    48                      \nfreq                                                10254                      \n\n       Unnamed: 1 Unnamed: 2         Unnamed: 3 Unnamed: 4 Unnamed: 5  \\\ncount      139434     139434             139434     138368     137807   \nunique        326         53               1956         56        326   \ntop           003      Texas  Washington County        048        031   \nfreq         2775      10254               1453      10785       3100   \n\n       Unnamed: 6        Unnamed: 7  Unnamed: 8  Unnamed: 9  \ncount      139434            137807      139435      139434  \nunique         56              1956        6275        1602  \ntop         Texas  Jefferson County           2           4  \nfreq        10785              1574        5938        4890  "
     },
     "execution_count": 3,
     "metadata": {},
     "output_type": "execute_result"
    }
   ],
   "source": [
    "df.head(10)\n",
    "df.describe()"
   ]
  },
  {
   "cell_type": "code",
   "execution_count": 4,
   "metadata": {},
   "outputs": [],
   "source": [
    "df.columns = df.iloc[5]\n",
    "df = df.iloc[6:-2]"
   ]
  },
  {
   "cell_type": "code",
   "execution_count": 5,
   "metadata": {},
   "outputs": [
    {
     "data": {
      "text/html": "<div>\n<style scoped>\n    .dataframe tbody tr th:only-of-type {\n        vertical-align: middle;\n    }\n\n    .dataframe tbody tr th {\n        vertical-align: top;\n    }\n\n    .dataframe thead th {\n        text-align: right;\n    }\n</style>\n<table border=\"1\" class=\"dataframe\">\n  <thead>\n    <tr style=\"text-align: right;\">\n      <th>5</th>\n      <th>State FIPS Code</th>\n      <th>County FIPS Code</th>\n      <th>State Name</th>\n      <th>County Name</th>\n      <th>State FIPS Code</th>\n      <th>County FIPS Code</th>\n      <th>State Name</th>\n      <th>County Name</th>\n      <th>Workers in Commuting Flow</th>\n      <th>Margin of Error</th>\n    </tr>\n  </thead>\n  <tbody>\n    <tr>\n      <th>6</th>\n      <td>01</td>\n      <td>001</td>\n      <td>Alabama</td>\n      <td>Autauga County</td>\n      <td>001</td>\n      <td>001</td>\n      <td>Alabama</td>\n      <td>Autauga County</td>\n      <td>8828</td>\n      <td>752</td>\n    </tr>\n    <tr>\n      <th>7</th>\n      <td>01</td>\n      <td>001</td>\n      <td>Alabama</td>\n      <td>Autauga County</td>\n      <td>001</td>\n      <td>013</td>\n      <td>Alabama</td>\n      <td>Butler County</td>\n      <td>6</td>\n      <td>10</td>\n    </tr>\n    <tr>\n      <th>8</th>\n      <td>01</td>\n      <td>001</td>\n      <td>Alabama</td>\n      <td>Autauga County</td>\n      <td>001</td>\n      <td>021</td>\n      <td>Alabama</td>\n      <td>Chilton County</td>\n      <td>504</td>\n      <td>228</td>\n    </tr>\n    <tr>\n      <th>9</th>\n      <td>01</td>\n      <td>001</td>\n      <td>Alabama</td>\n      <td>Autauga County</td>\n      <td>001</td>\n      <td>043</td>\n      <td>Alabama</td>\n      <td>Cullman County</td>\n      <td>27</td>\n      <td>44</td>\n    </tr>\n    <tr>\n      <th>10</th>\n      <td>01</td>\n      <td>001</td>\n      <td>Alabama</td>\n      <td>Autauga County</td>\n      <td>001</td>\n      <td>047</td>\n      <td>Alabama</td>\n      <td>Dallas County</td>\n      <td>296</td>\n      <td>130</td>\n    </tr>\n  </tbody>\n</table>\n</div>",
      "text/plain": "5  State FIPS Code County FIPS Code State Name     County Name  \\\n6               01              001    Alabama  Autauga County   \n7               01              001    Alabama  Autauga County   \n8               01              001    Alabama  Autauga County   \n9               01              001    Alabama  Autauga County   \n10              01              001    Alabama  Autauga County   \n\n5  State FIPS Code County FIPS Code State Name     County Name  \\\n6              001              001    Alabama  Autauga County   \n7              001              013    Alabama   Butler County   \n8              001              021    Alabama  Chilton County   \n9              001              043    Alabama  Cullman County   \n10             001              047    Alabama   Dallas County   \n\n5  Workers in Commuting Flow  Margin of Error  \n6                       8828              752  \n7                          6               10  \n8                        504              228  \n9                         27               44  \n10                       296              130  "
     },
     "execution_count": 5,
     "metadata": {},
     "output_type": "execute_result"
    }
   ],
   "source": [
    "df.dropna(how='any', inplace=True)\n",
    "df.head()"
   ]
  },
  {
   "cell_type": "code",
   "execution_count": 6,
   "metadata": {},
   "outputs": [
    {
     "data": {
      "text/html": "<div>\n<style scoped>\n    .dataframe tbody tr th:only-of-type {\n        vertical-align: middle;\n    }\n\n    .dataframe tbody tr th {\n        vertical-align: top;\n    }\n\n    .dataframe thead th {\n        text-align: right;\n    }\n</style>\n<table border=\"1\" class=\"dataframe\">\n  <thead>\n    <tr style=\"text-align: right;\">\n      <th></th>\n      <th>Resident State</th>\n      <th>Resident County</th>\n      <th>Work State</th>\n      <th>Work County</th>\n      <th>Commuting Flow</th>\n      <th>Margin of Error</th>\n    </tr>\n  </thead>\n  <tbody>\n    <tr>\n      <th>6</th>\n      <td>Alabama</td>\n      <td>Autauga County</td>\n      <td>Alabama</td>\n      <td>Autauga County</td>\n      <td>8828</td>\n      <td>752</td>\n    </tr>\n    <tr>\n      <th>7</th>\n      <td>Alabama</td>\n      <td>Autauga County</td>\n      <td>Alabama</td>\n      <td>Butler County</td>\n      <td>6</td>\n      <td>10</td>\n    </tr>\n    <tr>\n      <th>8</th>\n      <td>Alabama</td>\n      <td>Autauga County</td>\n      <td>Alabama</td>\n      <td>Chilton County</td>\n      <td>504</td>\n      <td>228</td>\n    </tr>\n    <tr>\n      <th>9</th>\n      <td>Alabama</td>\n      <td>Autauga County</td>\n      <td>Alabama</td>\n      <td>Cullman County</td>\n      <td>27</td>\n      <td>44</td>\n    </tr>\n    <tr>\n      <th>10</th>\n      <td>Alabama</td>\n      <td>Autauga County</td>\n      <td>Alabama</td>\n      <td>Dallas County</td>\n      <td>296</td>\n      <td>130</td>\n    </tr>\n    <tr>\n      <th>11</th>\n      <td>Alabama</td>\n      <td>Autauga County</td>\n      <td>Alabama</td>\n      <td>Elmore County</td>\n      <td>2186</td>\n      <td>486</td>\n    </tr>\n    <tr>\n      <th>12</th>\n      <td>Alabama</td>\n      <td>Autauga County</td>\n      <td>Alabama</td>\n      <td>Escambia County</td>\n      <td>14</td>\n      <td>23</td>\n    </tr>\n    <tr>\n      <th>13</th>\n      <td>Alabama</td>\n      <td>Autauga County</td>\n      <td>Alabama</td>\n      <td>Jefferson County</td>\n      <td>271</td>\n      <td>142</td>\n    </tr>\n    <tr>\n      <th>14</th>\n      <td>Alabama</td>\n      <td>Autauga County</td>\n      <td>Alabama</td>\n      <td>Lauderdale County</td>\n      <td>8</td>\n      <td>16</td>\n    </tr>\n    <tr>\n      <th>15</th>\n      <td>Alabama</td>\n      <td>Autauga County</td>\n      <td>Alabama</td>\n      <td>Lee County</td>\n      <td>79</td>\n      <td>108</td>\n    </tr>\n    <tr>\n      <th>16</th>\n      <td>Alabama</td>\n      <td>Autauga County</td>\n      <td>Alabama</td>\n      <td>Lowndes County</td>\n      <td>97</td>\n      <td>68</td>\n    </tr>\n    <tr>\n      <th>17</th>\n      <td>Alabama</td>\n      <td>Autauga County</td>\n      <td>Alabama</td>\n      <td>Macon County</td>\n      <td>31</td>\n      <td>52</td>\n    </tr>\n    <tr>\n      <th>18</th>\n      <td>Alabama</td>\n      <td>Autauga County</td>\n      <td>Alabama</td>\n      <td>Madison County</td>\n      <td>17</td>\n      <td>28</td>\n    </tr>\n    <tr>\n      <th>19</th>\n      <td>Alabama</td>\n      <td>Autauga County</td>\n      <td>Alabama</td>\n      <td>Mobile County</td>\n      <td>49</td>\n      <td>71</td>\n    </tr>\n    <tr>\n      <th>20</th>\n      <td>Alabama</td>\n      <td>Autauga County</td>\n      <td>Alabama</td>\n      <td>Montgomery County</td>\n      <td>11306</td>\n      <td>843</td>\n    </tr>\n    <tr>\n      <th>21</th>\n      <td>Alabama</td>\n      <td>Autauga County</td>\n      <td>Alabama</td>\n      <td>St. Clair County</td>\n      <td>8</td>\n      <td>12</td>\n    </tr>\n    <tr>\n      <th>22</th>\n      <td>Alabama</td>\n      <td>Autauga County</td>\n      <td>Alabama</td>\n      <td>Shelby County</td>\n      <td>96</td>\n      <td>51</td>\n    </tr>\n    <tr>\n      <th>23</th>\n      <td>Alabama</td>\n      <td>Autauga County</td>\n      <td>Alabama</td>\n      <td>Talladega County</td>\n      <td>7</td>\n      <td>11</td>\n    </tr>\n    <tr>\n      <th>24</th>\n      <td>Alabama</td>\n      <td>Autauga County</td>\n      <td>Alabama</td>\n      <td>Tallapoosa County</td>\n      <td>20</td>\n      <td>33</td>\n    </tr>\n    <tr>\n      <th>25</th>\n      <td>Alabama</td>\n      <td>Autauga County</td>\n      <td>Alabama</td>\n      <td>Tuscaloosa County</td>\n      <td>10</td>\n      <td>14</td>\n    </tr>\n    <tr>\n      <th>26</th>\n      <td>Alabama</td>\n      <td>Autauga County</td>\n      <td>Alabama</td>\n      <td>Wilcox County</td>\n      <td>33</td>\n      <td>37</td>\n    </tr>\n    <tr>\n      <th>27</th>\n      <td>Alabama</td>\n      <td>Autauga County</td>\n      <td>Florida</td>\n      <td>Bay County</td>\n      <td>17</td>\n      <td>27</td>\n    </tr>\n    <tr>\n      <th>28</th>\n      <td>Alabama</td>\n      <td>Autauga County</td>\n      <td>Florida</td>\n      <td>Hillsborough County</td>\n      <td>5</td>\n      <td>8</td>\n    </tr>\n    <tr>\n      <th>29</th>\n      <td>Alabama</td>\n      <td>Autauga County</td>\n      <td>Georgia</td>\n      <td>Miller County</td>\n      <td>71</td>\n      <td>76</td>\n    </tr>\n    <tr>\n      <th>30</th>\n      <td>Alabama</td>\n      <td>Autauga County</td>\n      <td>Georgia</td>\n      <td>Muscogee County</td>\n      <td>22</td>\n      <td>34</td>\n    </tr>\n    <tr>\n      <th>31</th>\n      <td>Alabama</td>\n      <td>Autauga County</td>\n      <td>Georgia</td>\n      <td>Troup County</td>\n      <td>15</td>\n      <td>23</td>\n    </tr>\n    <tr>\n      <th>32</th>\n      <td>Alabama</td>\n      <td>Autauga County</td>\n      <td>Louisiana</td>\n      <td>Caddo Parish</td>\n      <td>9</td>\n      <td>14</td>\n    </tr>\n    <tr>\n      <th>33</th>\n      <td>Alabama</td>\n      <td>Autauga County</td>\n      <td>Louisiana</td>\n      <td>Grant Parish</td>\n      <td>23</td>\n      <td>35</td>\n    </tr>\n    <tr>\n      <th>34</th>\n      <td>Alabama</td>\n      <td>Autauga County</td>\n      <td>Louisiana</td>\n      <td>Lafourche Parish</td>\n      <td>11</td>\n      <td>16</td>\n    </tr>\n    <tr>\n      <th>35</th>\n      <td>Alabama</td>\n      <td>Autauga County</td>\n      <td>Minnesota</td>\n      <td>Dakota County</td>\n      <td>7</td>\n      <td>12</td>\n    </tr>\n    <tr>\n      <th>...</th>\n      <td>...</td>\n      <td>...</td>\n      <td>...</td>\n      <td>...</td>\n      <td>...</td>\n      <td>...</td>\n    </tr>\n    <tr>\n      <th>139408</th>\n      <td>Puerto Rico</td>\n      <td>Yauco Municipio</td>\n      <td>Maine</td>\n      <td>Cumberland County</td>\n      <td>33</td>\n      <td>34</td>\n    </tr>\n    <tr>\n      <th>139409</th>\n      <td>Puerto Rico</td>\n      <td>Yauco Municipio</td>\n      <td>Puerto Rico</td>\n      <td>Añasco Municipio</td>\n      <td>29</td>\n      <td>44</td>\n    </tr>\n    <tr>\n      <th>139410</th>\n      <td>Puerto Rico</td>\n      <td>Yauco Municipio</td>\n      <td>Puerto Rico</td>\n      <td>Arroyo Municipio</td>\n      <td>26</td>\n      <td>40</td>\n    </tr>\n    <tr>\n      <th>139411</th>\n      <td>Puerto Rico</td>\n      <td>Yauco Municipio</td>\n      <td>Puerto Rico</td>\n      <td>Bayamón Municipio</td>\n      <td>70</td>\n      <td>108</td>\n    </tr>\n    <tr>\n      <th>139412</th>\n      <td>Puerto Rico</td>\n      <td>Yauco Municipio</td>\n      <td>Puerto Rico</td>\n      <td>Cabo Rojo Municipio</td>\n      <td>13</td>\n      <td>14</td>\n    </tr>\n    <tr>\n      <th>139413</th>\n      <td>Puerto Rico</td>\n      <td>Yauco Municipio</td>\n      <td>Puerto Rico</td>\n      <td>Caguas Municipio</td>\n      <td>8</td>\n      <td>13</td>\n    </tr>\n    <tr>\n      <th>139414</th>\n      <td>Puerto Rico</td>\n      <td>Yauco Municipio</td>\n      <td>Puerto Rico</td>\n      <td>Carolina Municipio</td>\n      <td>8</td>\n      <td>13</td>\n    </tr>\n    <tr>\n      <th>139415</th>\n      <td>Puerto Rico</td>\n      <td>Yauco Municipio</td>\n      <td>Puerto Rico</td>\n      <td>Guánica Municipio</td>\n      <td>260</td>\n      <td>122</td>\n    </tr>\n    <tr>\n      <th>139416</th>\n      <td>Puerto Rico</td>\n      <td>Yauco Municipio</td>\n      <td>Puerto Rico</td>\n      <td>Guayama Municipio</td>\n      <td>13</td>\n      <td>20</td>\n    </tr>\n    <tr>\n      <th>139417</th>\n      <td>Puerto Rico</td>\n      <td>Yauco Municipio</td>\n      <td>Puerto Rico</td>\n      <td>Guayanilla Municipio</td>\n      <td>521</td>\n      <td>211</td>\n    </tr>\n    <tr>\n      <th>139418</th>\n      <td>Puerto Rico</td>\n      <td>Yauco Municipio</td>\n      <td>Puerto Rico</td>\n      <td>Guaynabo Municipio</td>\n      <td>12</td>\n      <td>15</td>\n    </tr>\n    <tr>\n      <th>139419</th>\n      <td>Puerto Rico</td>\n      <td>Yauco Municipio</td>\n      <td>Puerto Rico</td>\n      <td>Hormigueros Municipio</td>\n      <td>44</td>\n      <td>40</td>\n    </tr>\n    <tr>\n      <th>139420</th>\n      <td>Puerto Rico</td>\n      <td>Yauco Municipio</td>\n      <td>Puerto Rico</td>\n      <td>Humacao Municipio</td>\n      <td>16</td>\n      <td>25</td>\n    </tr>\n    <tr>\n      <th>139421</th>\n      <td>Puerto Rico</td>\n      <td>Yauco Municipio</td>\n      <td>Puerto Rico</td>\n      <td>Juana Díaz Municipio</td>\n      <td>52</td>\n      <td>70</td>\n    </tr>\n    <tr>\n      <th>139422</th>\n      <td>Puerto Rico</td>\n      <td>Yauco Municipio</td>\n      <td>Puerto Rico</td>\n      <td>Juncos Municipio</td>\n      <td>7</td>\n      <td>11</td>\n    </tr>\n    <tr>\n      <th>139423</th>\n      <td>Puerto Rico</td>\n      <td>Yauco Municipio</td>\n      <td>Puerto Rico</td>\n      <td>Lajas Municipio</td>\n      <td>35</td>\n      <td>34</td>\n    </tr>\n    <tr>\n      <th>139424</th>\n      <td>Puerto Rico</td>\n      <td>Yauco Municipio</td>\n      <td>Puerto Rico</td>\n      <td>Lares Municipio</td>\n      <td>84</td>\n      <td>65</td>\n    </tr>\n    <tr>\n      <th>139425</th>\n      <td>Puerto Rico</td>\n      <td>Yauco Municipio</td>\n      <td>Puerto Rico</td>\n      <td>Las Marías Municipio</td>\n      <td>9</td>\n      <td>15</td>\n    </tr>\n    <tr>\n      <th>139426</th>\n      <td>Puerto Rico</td>\n      <td>Yauco Municipio</td>\n      <td>Puerto Rico</td>\n      <td>Mayagüez Municipio</td>\n      <td>147</td>\n      <td>78</td>\n    </tr>\n    <tr>\n      <th>139427</th>\n      <td>Puerto Rico</td>\n      <td>Yauco Municipio</td>\n      <td>Puerto Rico</td>\n      <td>Peñuelas Municipio</td>\n      <td>99</td>\n      <td>57</td>\n    </tr>\n    <tr>\n      <th>139428</th>\n      <td>Puerto Rico</td>\n      <td>Yauco Municipio</td>\n      <td>Puerto Rico</td>\n      <td>Ponce Municipio</td>\n      <td>1563</td>\n      <td>307</td>\n    </tr>\n    <tr>\n      <th>139429</th>\n      <td>Puerto Rico</td>\n      <td>Yauco Municipio</td>\n      <td>Puerto Rico</td>\n      <td>Rincón Municipio</td>\n      <td>6</td>\n      <td>10</td>\n    </tr>\n    <tr>\n      <th>139430</th>\n      <td>Puerto Rico</td>\n      <td>Yauco Municipio</td>\n      <td>Puerto Rico</td>\n      <td>Sabana Grande Municipio</td>\n      <td>241</td>\n      <td>147</td>\n    </tr>\n    <tr>\n      <th>139431</th>\n      <td>Puerto Rico</td>\n      <td>Yauco Municipio</td>\n      <td>Puerto Rico</td>\n      <td>Salinas Municipio</td>\n      <td>12</td>\n      <td>15</td>\n    </tr>\n    <tr>\n      <th>139432</th>\n      <td>Puerto Rico</td>\n      <td>Yauco Municipio</td>\n      <td>Puerto Rico</td>\n      <td>San Germán Municipio</td>\n      <td>251</td>\n      <td>126</td>\n    </tr>\n    <tr>\n      <th>139433</th>\n      <td>Puerto Rico</td>\n      <td>Yauco Municipio</td>\n      <td>Puerto Rico</td>\n      <td>San Juan Municipio</td>\n      <td>135</td>\n      <td>115</td>\n    </tr>\n    <tr>\n      <th>139434</th>\n      <td>Puerto Rico</td>\n      <td>Yauco Municipio</td>\n      <td>Puerto Rico</td>\n      <td>Santa Isabel Municipio</td>\n      <td>7</td>\n      <td>12</td>\n    </tr>\n    <tr>\n      <th>139435</th>\n      <td>Puerto Rico</td>\n      <td>Yauco Municipio</td>\n      <td>Puerto Rico</td>\n      <td>Vieques Municipio</td>\n      <td>60</td>\n      <td>71</td>\n    </tr>\n    <tr>\n      <th>139436</th>\n      <td>Puerto Rico</td>\n      <td>Yauco Municipio</td>\n      <td>Puerto Rico</td>\n      <td>Villalba Municipio</td>\n      <td>47</td>\n      <td>48</td>\n    </tr>\n    <tr>\n      <th>139437</th>\n      <td>Puerto Rico</td>\n      <td>Yauco Municipio</td>\n      <td>Puerto Rico</td>\n      <td>Yauco Municipio</td>\n      <td>4894</td>\n      <td>532</td>\n    </tr>\n  </tbody>\n</table>\n<p>137806 rows × 6 columns</p>\n</div>",
      "text/plain": "       Resident State  Resident County   Work State              Work County  \\\n6             Alabama   Autauga County      Alabama           Autauga County   \n7             Alabama   Autauga County      Alabama            Butler County   \n8             Alabama   Autauga County      Alabama           Chilton County   \n9             Alabama   Autauga County      Alabama           Cullman County   \n10            Alabama   Autauga County      Alabama            Dallas County   \n11            Alabama   Autauga County      Alabama            Elmore County   \n12            Alabama   Autauga County      Alabama          Escambia County   \n13            Alabama   Autauga County      Alabama         Jefferson County   \n14            Alabama   Autauga County      Alabama        Lauderdale County   \n15            Alabama   Autauga County      Alabama               Lee County   \n16            Alabama   Autauga County      Alabama           Lowndes County   \n17            Alabama   Autauga County      Alabama             Macon County   \n18            Alabama   Autauga County      Alabama           Madison County   \n19            Alabama   Autauga County      Alabama            Mobile County   \n20            Alabama   Autauga County      Alabama        Montgomery County   \n21            Alabama   Autauga County      Alabama         St. Clair County   \n22            Alabama   Autauga County      Alabama            Shelby County   \n23            Alabama   Autauga County      Alabama         Talladega County   \n24            Alabama   Autauga County      Alabama        Tallapoosa County   \n25            Alabama   Autauga County      Alabama        Tuscaloosa County   \n26            Alabama   Autauga County      Alabama            Wilcox County   \n27            Alabama   Autauga County      Florida               Bay County   \n28            Alabama   Autauga County      Florida      Hillsborough County   \n29            Alabama   Autauga County      Georgia            Miller County   \n30            Alabama   Autauga County      Georgia          Muscogee County   \n31            Alabama   Autauga County      Georgia             Troup County   \n32            Alabama   Autauga County    Louisiana             Caddo Parish   \n33            Alabama   Autauga County    Louisiana             Grant Parish   \n34            Alabama   Autauga County    Louisiana         Lafourche Parish   \n35            Alabama   Autauga County    Minnesota            Dakota County   \n...               ...              ...          ...                      ...   \n139408    Puerto Rico  Yauco Municipio        Maine        Cumberland County   \n139409    Puerto Rico  Yauco Municipio  Puerto Rico         Añasco Municipio   \n139410    Puerto Rico  Yauco Municipio  Puerto Rico         Arroyo Municipio   \n139411    Puerto Rico  Yauco Municipio  Puerto Rico        Bayamón Municipio   \n139412    Puerto Rico  Yauco Municipio  Puerto Rico      Cabo Rojo Municipio   \n139413    Puerto Rico  Yauco Municipio  Puerto Rico         Caguas Municipio   \n139414    Puerto Rico  Yauco Municipio  Puerto Rico       Carolina Municipio   \n139415    Puerto Rico  Yauco Municipio  Puerto Rico        Guánica Municipio   \n139416    Puerto Rico  Yauco Municipio  Puerto Rico        Guayama Municipio   \n139417    Puerto Rico  Yauco Municipio  Puerto Rico     Guayanilla Municipio   \n139418    Puerto Rico  Yauco Municipio  Puerto Rico       Guaynabo Municipio   \n139419    Puerto Rico  Yauco Municipio  Puerto Rico    Hormigueros Municipio   \n139420    Puerto Rico  Yauco Municipio  Puerto Rico        Humacao Municipio   \n139421    Puerto Rico  Yauco Municipio  Puerto Rico     Juana Díaz Municipio   \n139422    Puerto Rico  Yauco Municipio  Puerto Rico         Juncos Municipio   \n139423    Puerto Rico  Yauco Municipio  Puerto Rico          Lajas Municipio   \n139424    Puerto Rico  Yauco Municipio  Puerto Rico          Lares Municipio   \n139425    Puerto Rico  Yauco Municipio  Puerto Rico     Las Marías Municipio   \n139426    Puerto Rico  Yauco Municipio  Puerto Rico       Mayagüez Municipio   \n139427    Puerto Rico  Yauco Municipio  Puerto Rico       Peñuelas Municipio   \n139428    Puerto Rico  Yauco Municipio  Puerto Rico          Ponce Municipio   \n139429    Puerto Rico  Yauco Municipio  Puerto Rico         Rincón Municipio   \n139430    Puerto Rico  Yauco Municipio  Puerto Rico  Sabana Grande Municipio   \n139431    Puerto Rico  Yauco Municipio  Puerto Rico        Salinas Municipio   \n139432    Puerto Rico  Yauco Municipio  Puerto Rico     San Germán Municipio   \n139433    Puerto Rico  Yauco Municipio  Puerto Rico       San Juan Municipio   \n139434    Puerto Rico  Yauco Municipio  Puerto Rico   Santa Isabel Municipio   \n139435    Puerto Rico  Yauco Municipio  Puerto Rico        Vieques Municipio   \n139436    Puerto Rico  Yauco Municipio  Puerto Rico       Villalba Municipio   \n139437    Puerto Rico  Yauco Municipio  Puerto Rico          Yauco Municipio   \n\n       Commuting Flow Margin of Error  \n6                8828             752  \n7                   6              10  \n8                 504             228  \n9                  27              44  \n10                296             130  \n11               2186             486  \n12                 14              23  \n13                271             142  \n14                  8              16  \n15                 79             108  \n16                 97              68  \n17                 31              52  \n18                 17              28  \n19                 49              71  \n20              11306             843  \n21                  8              12  \n22                 96              51  \n23                  7              11  \n24                 20              33  \n25                 10              14  \n26                 33              37  \n27                 17              27  \n28                  5               8  \n29                 71              76  \n30                 22              34  \n31                 15              23  \n32                  9              14  \n33                 23              35  \n34                 11              16  \n35                  7              12  \n...               ...             ...  \n139408             33              34  \n139409             29              44  \n139410             26              40  \n139411             70             108  \n139412             13              14  \n139413              8              13  \n139414              8              13  \n139415            260             122  \n139416             13              20  \n139417            521             211  \n139418             12              15  \n139419             44              40  \n139420             16              25  \n139421             52              70  \n139422              7              11  \n139423             35              34  \n139424             84              65  \n139425              9              15  \n139426            147              78  \n139427             99              57  \n139428           1563             307  \n139429              6              10  \n139430            241             147  \n139431             12              15  \n139432            251             126  \n139433            135             115  \n139434              7              12  \n139435             60              71  \n139436             47              48  \n139437           4894             532  \n\n[137806 rows x 6 columns]"
     },
     "execution_count": 6,
     "metadata": {},
     "output_type": "execute_result"
    }
   ],
   "source": [
    "df.drop(columns=['State FIPS Code', 'County FIPS Code'], inplace=True)\n",
    "df.columns = ['Resident State', 'Resident County', \n",
    "              'Work State', 'Work County', \n",
    "              'Commuting Flow', 'Margin of Error']\n",
    "df"
   ]
  },
  {
   "cell_type": "code",
   "execution_count": 7,
   "metadata": {},
   "outputs": [],
   "source": [
    "state2abbrev = {\n",
    "    'Alabama': 'AL',\n",
    "    'Alaska': 'AK',\n",
    "    'Arizona': 'AZ',\n",
    "    'Arkansas': 'AR',\n",
    "    'California': 'CA',\n",
    "    'Colorado': 'CO',\n",
    "    'Connecticut': 'CT',\n",
    "    'Delaware': 'DE',\n",
    "    'District of Columbia': 'DC',\n",
    "    'Florida': 'FL',\n",
    "    'Georgia': 'GA',\n",
    "    'Hawaii': 'HI',\n",
    "    'Idaho': 'ID',\n",
    "    'Illinois': 'IL',\n",
    "    'Indiana': 'IN',\n",
    "    'Iowa': 'IA',\n",
    "    'Kansas': 'KS',\n",
    "    'Kentucky': 'KY',\n",
    "    'Louisiana': 'LA',\n",
    "    'Maine': 'ME',\n",
    "    'Maryland': 'MD',\n",
    "    'Massachusetts': 'MA',\n",
    "    'Michigan': 'MI',\n",
    "    'Minnesota': 'MN',\n",
    "    'Mississippi': 'MS',\n",
    "    'Missouri': 'MO',\n",
    "    'Montana': 'MT',\n",
    "    'Nebraska': 'NE',\n",
    "    'Nevada': 'NV',\n",
    "    'New Hampshire': 'NH',\n",
    "    'New Jersey': 'NJ',\n",
    "    'New Mexico': 'NM',\n",
    "    'New York': 'NY',\n",
    "    'North Carolina': 'NC',\n",
    "    'North Dakota': 'ND',\n",
    "    'Northern Mariana Islands':'MP',\n",
    "    'Ohio': 'OH',\n",
    "    'Oklahoma': 'OK',\n",
    "    'Oregon': 'OR',\n",
    "    'Palau': 'PW',\n",
    "    'Pennsylvania': 'PA',\n",
    "    'Puerto Rico': 'PR',\n",
    "    'Rhode Island': 'RI',\n",
    "    'South Carolina': 'SC',\n",
    "    'South Dakota': 'SD',\n",
    "    'Tennessee': 'TN',\n",
    "    'Texas': 'TX',\n",
    "    'Utah': 'UT',\n",
    "    'Vermont': 'VT',\n",
    "    'Virgin Islands': 'VI',\n",
    "    'Virginia': 'VA',\n",
    "    'Washington': 'WA',\n",
    "    'West Virginia': 'WV',\n",
    "    'Wisconsin': 'WI',\n",
    "    'Wyoming': 'WY',\n",
    "}\n",
    "df['Resident State'] = df['Resident State'].map(state2abbrev)\n",
    "df['Work State'] = df['Work State'].map(state2abbrev)"
   ]
  },
  {
   "cell_type": "code",
   "execution_count": 8,
   "metadata": {},
   "outputs": [],
   "source": [
    "df['Resident County'] = df['Resident County'].str.replace(' County', '')\n",
    "df['Work County'] = df['Work County'].str.replace(' County', '')\n",
    "df = df[df['Commuting Flow'] > 0]"
   ]
  },
  {
   "cell_type": "code",
   "execution_count": 9,
   "metadata": {},
   "outputs": [],
   "source": [
    "df.to_csv('../../data/cleaned/commute_flow.csv', index=False)"
   ]
  }
 ]
}